{
 "cells": [
  {
   "cell_type": "markdown",
   "metadata": {},
   "source": [
    "# Finite differences\n",
    "\n",
    "This exercise aims at solving the Poisson equation\n",
    "\n",
    "\\begin{align}\n",
    "    -\\Delta u &= 10\\pi^2 \\sin(10\\pi x)\\cos(20\\pi y)&&\\text{in}&\\Omega&=(0,1)^2,\\\\\n",
    "    u(x,y) &= u_0(x) = \\sin(\\pi x) && \\text{on}& \\partial\\Omega,\n",
    "\\end{align}\n",
    "\n",
    "with the finite difference scheme on a rectangular grid.\n",
    "To discretize the equation, use the 5-point-star\n",
    "\n",
    "\\begin{align}\n",
    "    \\frac{1}{h^2} \\begin{bmatrix} & -1 & \\\\ -1 & 4 & -1 \\\\ & -1 & \\end{bmatrix}.\n",
    "\\end{align}\n",
    "\n",
    "The individual subtasks treat parts of the complete program.\n",
    "\n",
    "*Hint:* To test your program, you can first of all consider the problem\n",
    "\n",
    "\\begin{align}\n",
    "    -\\Delta u &= 0&&\\text{in}&\\Omega&=(0,1)^2,\\\\\n",
    "    u(x,y) &= x && \\text{on}& \\partial\\Omega,\n",
    "\\end{align}\n",
    "\n",
    "which has the simple solution $u(x,y) = x$."
   ]
  },
  {
   "cell_type": "markdown",
   "metadata": {},
   "source": [
    "The following input statements should be sufficient for your program:"
   ]
  },
  {
   "cell_type": "code",
   "execution_count": 19,
   "metadata": {},
   "outputs": [],
   "source": [
    "%matplotlib inline\n",
    "import matplotlib.pyplot as plt\n",
    "import numpy as np\n",
    "import scipy.sparse as sparse\n",
    "from scipy.sparse.linalg import spsolve"
   ]
  },
  {
   "cell_type": "markdown",
   "metadata": {},
   "source": [
    "Start by choosing a resolution `n` and define the right hand side `f` as well as the boundary condition `u0`:"
   ]
  },
  {
   "cell_type": "code",
   "execution_count": 28,
   "metadata": {},
   "outputs": [],
   "source": [
    "n = 4\n",
    "\n",
    "#f = lambda x: 10 * np.pi**2 * np.sin(10*np.pi*x[0]) * np.cos(20*np.pi*x[1])\n",
    "#u0 = lambda x: np.sin(np.pi * x[0])\n",
    "f = lambda x: 2\n",
    "u0 = lambda x: x[0]"
   ]
  },
  {
   "cell_type": "markdown",
   "metadata": {},
   "source": [
    "We now define the grid:"
   ]
  },
  {
   "cell_type": "code",
   "execution_count": 21,
   "metadata": {},
   "outputs": [],
   "source": [
    "xs, h = np.linspace(0, 1, n, retstep=True)\n",
    "ys = np.linspace(0, 1, n)"
   ]
  },
  {
   "cell_type": "markdown",
   "metadata": {},
   "source": [
    "`N` is the number of degrees of freedom, including the points that are fixed by the boundary condition:"
   ]
  },
  {
   "cell_type": "code",
   "execution_count": 22,
   "metadata": {},
   "outputs": [
    {
     "data": {
      "text/plain": [
       "16"
      ]
     },
     "execution_count": 22,
     "metadata": {},
     "output_type": "execute_result"
    }
   ],
   "source": [
    "N = n*n\n",
    "N"
   ]
  },
  {
   "cell_type": "markdown",
   "metadata": {},
   "source": [
    "## Task 1\n",
    "\n",
    "Implement a function `index(i,j)`, which assigns to each pair `(i,j)` with $0\\leq\\,$ `i`, `j` < `n` a number `n(i,j)`$\\in\\{0,\\dots,N-1\\}$ bijectively. This way, the degrees of freedom are continuously numbered.\n",
    "\n",
    "Implement a function `coord(i,j)`, which assigns to a `(i,j)` with $0\\leq\\,$ `i`, `j` < `n` the corresponding coordinate `x(i,j)`$\\in[0,1]^2$."
   ]
  },
  {
   "cell_type": "code",
   "execution_count": 23,
   "metadata": {},
   "outputs": [],
   "source": [
    "def index(i, j):\n",
    "    return n*i+j;\n",
    "\n",
    "def coord(i, j):\n",
    "    return xs[i],ys[j];"
   ]
  },
  {
   "cell_type": "markdown",
   "metadata": {},
   "source": [
    "## Task 2\n",
    "\n",
    "Create a sparse matrix `A` as `lil_matrix` of appropriate size, and create a vector `b` of appropriate size that is initialized with 0. Take a look at the [scipy documentation on `lil_matrix`](https://docs.scipy.org/doc/scipy/reference/generated/scipy.sparse.lil_matrix.html) for information on how to create sparse matrices."
   ]
  },
  {
   "cell_type": "code",
   "execution_count": 44,
   "metadata": {},
   "outputs": [
    {
     "name": "stdout",
     "output_type": "stream",
     "text": [
      "\n",
      "[0. 0. 0. 0. 0. 0. 0. 0. 0. 0. 0. 0. 0. 0. 0. 0.]\n"
     ]
    }
   ],
   "source": [
    "A = sparse.lil_matrix(np.zeros([N,N]));\n",
    "b = np.zeros(N);\n",
    "print(A);\n",
    "print(b);\n"
   ]
  },
  {
   "cell_type": "markdown",
   "metadata": {},
   "source": [
    "Iterate over the inner rows `i` and inner columns `j` and fill the row of the system matrix `A` (according to the 5-point-star formula) and right hand side `b` that corresponds to the degree of freedom `n(i,j)`. Make use of the `index`- and `coord`-methods from task 1."
   ]
  },
  {
   "cell_type": "code",
   "execution_count": 45,
   "metadata": {},
   "outputs": [
    {
     "name": "stdout",
     "output_type": "stream",
     "text": [
      "[0. 0. 0. 0. 0. 2. 2. 0. 0. 2. 2. 0. 0. 0. 0. 0.]\n",
      "5\n",
      "6\n",
      "9\n",
      "10\n",
      "  (5, 1)\t-1.0\n",
      "  (5, 4)\t-1.0\n",
      "  (5, 5)\t4.0\n",
      "  (5, 6)\t-1.0\n",
      "  (5, 9)\t-1.0\n",
      "  (6, 2)\t-1.0\n",
      "  (6, 5)\t-1.0\n",
      "  (6, 6)\t4.0\n",
      "  (6, 7)\t-1.0\n",
      "  (6, 10)\t-1.0\n",
      "  (9, 5)\t-1.0\n",
      "  (9, 8)\t-1.0\n",
      "  (9, 9)\t4.0\n",
      "  (9, 10)\t-1.0\n",
      "  (9, 13)\t-1.0\n",
      "  (10, 6)\t-1.0\n",
      "  (10, 9)\t-1.0\n",
      "  (10, 10)\t4.0\n",
      "  (10, 11)\t-1.0\n",
      "  (10, 14)\t-1.0\n"
     ]
    }
   ],
   "source": [
    "#fill b\n",
    "for i in range(1,n-1):\n",
    "    for j in range(1,n-1):\n",
    "        b[index(i,j)]=f(coord(i,j));\n",
    "print(b);\n",
    "#fill A\n",
    "for i in range(1,n-1):\n",
    "    for j in range(1,n-1):\n",
    "        print(index(i,j));\n",
    "        A[index(i,j),index(i,j)]= 4;\n",
    "        A[index(i,j),index(i,j-1)]= -1;\n",
    "        A[index(i,j),index(i,j+1)]= -1;\n",
    "        A[index(i,j),index(i+1,j)]= -1;\n",
    "        A[index(i,j),index(i-1,j)]= -1;\n",
    "print(A);\n",
    "        \n",
    "        \n",
    "\n"
   ]
  },
  {
   "cell_type": "markdown",
   "metadata": {},
   "source": [
    "## Task 3\n",
    "\n",
    "Implement a function `dirichlet(i,j)`, which writes the value 1 onto the diagonal of the row of the system matrix that corresponds to the degree of freedom given by `n(i,j)`. Furthermore, the function should write the correct boundary value into the entry with number `n(i,j)` of the right hand side vector. Again, use the functions `index` and `coord` from task 1."
   ]
  },
  {
   "cell_type": "code",
   "execution_count": null,
   "metadata": {},
   "outputs": [],
   "source": [
    "def dirichlet(i, j):\n",
    "    A[index(i,j)][index(i,j)] = 1;\n",
    "    b[index(i,j)]= "
   ]
  },
  {
   "cell_type": "markdown",
   "metadata": {},
   "source": [
    "Iterate over the outer vertices and call the `dirichlet` function for each of these vertices."
   ]
  },
  {
   "cell_type": "code",
   "execution_count": null,
   "metadata": {},
   "outputs": [],
   "source": [
    "# YOUR CODE HERE"
   ]
  },
  {
   "cell_type": "markdown",
   "metadata": {},
   "source": [
    "## Task 4\n",
    "\n",
    "Print the memory consumption of the sparse matrix and compare it to the memory consumption of a dense matrix of the same size. It is enough to consider only the memory consumption of the numbers in the matrix themselves (8 bytes for a floating-point number in double-precission).\n",
    "\n",
    "*Hint:* `A.nnz` provides the number of entries of a sparse matrix that are not 0 (<b>n</b>umber of <b>n</b>on-<b>z</b>eroes)."
   ]
  },
  {
   "cell_type": "code",
   "execution_count": null,
   "metadata": {},
   "outputs": [],
   "source": [
    "# YOUR CODE HERE"
   ]
  },
  {
   "cell_type": "markdown",
   "metadata": {},
   "source": [
    "How does the memory consumption increase depending on `n`?"
   ]
  },
  {
   "cell_type": "markdown",
   "metadata": {},
   "source": [
    "YOUR ANSWER HERE"
   ]
  },
  {
   "cell_type": "markdown",
   "metadata": {},
   "source": [
    "## Task 5\n",
    "\n",
    "Use the following code to examine the structure of the system matrix `A` for `n`$\\leq 32$. Try different values for `n` at the top of the notebook. Do you see a pattern?"
   ]
  },
  {
   "cell_type": "code",
   "execution_count": null,
   "metadata": {},
   "outputs": [],
   "source": [
    "if A.shape[0] <= 32*32:\n",
    "    Adense = np.array(abs(A).todense())\n",
    "    plt.figure(figsize=(10, 10))\n",
    "    plt.pcolormesh(Adense, cmap=plt.cm.gray_r)\n",
    "    plt.show()"
   ]
  },
  {
   "cell_type": "markdown",
   "metadata": {},
   "source": [
    "YOUR ANSWER HERE"
   ]
  },
  {
   "cell_type": "markdown",
   "metadata": {},
   "source": [
    "## Task 6\n",
    "\n",
    "Convert `A` into a `csr_matrix` and solve the system of equations $Ax=b$ (search in the scipy documentation for how to do this). The solution should be called `x`."
   ]
  },
  {
   "cell_type": "code",
   "execution_count": null,
   "metadata": {},
   "outputs": [],
   "source": [
    "# YOUR CODE HERE"
   ]
  },
  {
   "cell_type": "markdown",
   "metadata": {},
   "source": [
    "## Task 7\n",
    "\n",
    "Use the following code to visualize the solution. Does it look as you would expect? Describe why the result fits or does not fit your expectations. Run the whole notebook for `n`$\\,=256$ as well to increase the resolution (you can also try different values for `n` to examine the behavior of the solution regarding the discretization size)."
   ]
  },
  {
   "cell_type": "code",
   "execution_count": null,
   "metadata": {},
   "outputs": [],
   "source": [
    "zs = np.zeros((n, n))\n",
    "for i in range(0, n):\n",
    "    for j in range(0, n):\n",
    "        zs[i,j] = x[index(i, j)]\n",
    "\n",
    "plt.figure(figsize=(10,10))\n",
    "plt.pcolormesh(ys, xs, zs)\n",
    "plt.show()"
   ]
  },
  {
   "cell_type": "markdown",
   "metadata": {},
   "source": [
    "YOUR ANSWER HERE"
   ]
  }
 ],
 "metadata": {
  "kernelspec": {
   "display_name": "Python 3",
   "language": "python",
   "name": "python3"
  },
  "language_info": {
   "codemirror_mode": {
    "name": "ipython",
    "version": 3
   },
   "file_extension": ".py",
   "mimetype": "text/x-python",
   "name": "python",
   "nbconvert_exporter": "python",
   "pygments_lexer": "ipython3",
   "version": "3.8.12"
  }
 },
 "nbformat": 4,
 "nbformat_minor": 4
}
